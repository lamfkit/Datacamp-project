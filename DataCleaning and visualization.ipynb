{
  "cells": [
    {
      "cell_type": "code",
      "execution_count": 13,
      "metadata": {
        "id": "gwpFI2e4uLwq"
      },
      "outputs": [],
      "source": [
        "import pandas as pd\n",
        "import matplotlib.pyplot as plt\n",
        "import numpy as np"
      ]
    },
    {
      "cell_type": "code",
      "execution_count": 14,
      "metadata": {
        "id": "QYgd4mIHum9g"
      },
      "outputs": [],
      "source": [
        "df = pd.read_csv('claims.csv')"
      ]
    },
    {
      "cell_type": "code",
      "execution_count": 15,
      "metadata": {
        "colab": {
          "base_uri": "https://localhost:8080/"
        },
        "id": "SPAmlJVfuzUa",
        "outputId": "8bef7aab-43f3-4dac-bb61-905c5da6d51e"
      },
      "outputs": [
        {
          "data": {
            "text/plain": [
              "(98, 8)"
            ]
          },
          "execution_count": 15,
          "metadata": {},
          "output_type": "execute_result"
        }
      ],
      "source": [
        "df.shape"
      ]
    },
    {
      "cell_type": "code",
      "execution_count": 16,
      "metadata": {
        "colab": {
          "base_uri": "https://localhost:8080/"
        },
        "id": "tlle_RJku-0W",
        "outputId": "5e550de9-3f95-4ae9-df9e-be8cb80665ee"
      },
      "outputs": [
        {
          "name": "stdout",
          "output_type": "stream",
          "text": [
            "<class 'pandas.core.frame.DataFrame'>\n",
            "RangeIndex: 98 entries, 0 to 97\n",
            "Data columns (total 8 columns):\n",
            " #   Column                Non-Null Count  Dtype  \n",
            "---  ------                --------------  -----  \n",
            " 0   Claim ID              98 non-null     object \n",
            " 1   Time to Close         98 non-null     int64  \n",
            " 2   Claim Amount          98 non-null     object \n",
            " 3   Amount Paid           98 non-null     float64\n",
            " 4   Location              98 non-null     object \n",
            " 5   Individuals on Claim  98 non-null     int64  \n",
            " 6   Linked Cases          98 non-null     bool   \n",
            " 7   Cause                 20 non-null     object \n",
            "dtypes: bool(1), float64(1), int64(2), object(4)\n",
            "memory usage: 5.6+ KB\n"
          ]
        }
      ],
      "source": [
        "df.info()"
      ]
    },
    {
      "cell_type": "code",
      "execution_count": 17,
      "metadata": {
        "colab": {
          "base_uri": "https://localhost:8080/",
          "height": 372
        },
        "id": "L21eySA_vD_u",
        "outputId": "c23d5ad4-cef8-4c26-bd8f-b065fc0cafc5"
      },
      "outputs": [
        {
          "data": {
            "text/html": [
              "<div>\n",
              "<style scoped>\n",
              "    .dataframe tbody tr th:only-of-type {\n",
              "        vertical-align: middle;\n",
              "    }\n",
              "\n",
              "    .dataframe tbody tr th {\n",
              "        vertical-align: top;\n",
              "    }\n",
              "\n",
              "    .dataframe thead th {\n",
              "        text-align: right;\n",
              "    }\n",
              "</style>\n",
              "<table border=\"1\" class=\"dataframe\">\n",
              "  <thead>\n",
              "    <tr style=\"text-align: right;\">\n",
              "      <th></th>\n",
              "      <th>Claim ID</th>\n",
              "      <th>Time to Close</th>\n",
              "      <th>Claim Amount</th>\n",
              "      <th>Amount Paid</th>\n",
              "      <th>Location</th>\n",
              "      <th>Individuals on Claim</th>\n",
              "      <th>Linked Cases</th>\n",
              "      <th>Cause</th>\n",
              "    </tr>\n",
              "  </thead>\n",
              "  <tbody>\n",
              "    <tr>\n",
              "      <th>0</th>\n",
              "      <td>0000000-00.2010.0.00.0094</td>\n",
              "      <td>2082</td>\n",
              "      <td>R$50,000.00</td>\n",
              "      <td>34297.47</td>\n",
              "      <td>RECIFE</td>\n",
              "      <td>2</td>\n",
              "      <td>False</td>\n",
              "      <td>NaN</td>\n",
              "    </tr>\n",
              "    <tr>\n",
              "      <th>1</th>\n",
              "      <td>0000000-00.2011.0.00.0086</td>\n",
              "      <td>3591</td>\n",
              "      <td>R$180,000.00</td>\n",
              "      <td>56383.54</td>\n",
              "      <td>SAO LUIS</td>\n",
              "      <td>7</td>\n",
              "      <td>False</td>\n",
              "      <td>NaN</td>\n",
              "    </tr>\n",
              "    <tr>\n",
              "      <th>2</th>\n",
              "      <td>0000000-00.2012.0.00.0092</td>\n",
              "      <td>2997</td>\n",
              "      <td>R$70,000.00</td>\n",
              "      <td>12366.76</td>\n",
              "      <td>SAO LUIS</td>\n",
              "      <td>3</td>\n",
              "      <td>False</td>\n",
              "      <td>vegetables</td>\n",
              "    </tr>\n",
              "    <tr>\n",
              "      <th>3</th>\n",
              "      <td>0000000-00.2013.0.00.0096</td>\n",
              "      <td>1143</td>\n",
              "      <td>R$95,104.00</td>\n",
              "      <td>29217.16</td>\n",
              "      <td>FORTALEZA</td>\n",
              "      <td>4</td>\n",
              "      <td>False</td>\n",
              "      <td>NaN</td>\n",
              "    </tr>\n",
              "    <tr>\n",
              "      <th>4</th>\n",
              "      <td>0000000-00.2014.0.00.0097</td>\n",
              "      <td>117</td>\n",
              "      <td>R$29,000.00</td>\n",
              "      <td>12610.50</td>\n",
              "      <td>FORTALEZA</td>\n",
              "      <td>1</td>\n",
              "      <td>False</td>\n",
              "      <td>meat</td>\n",
              "    </tr>\n",
              "  </tbody>\n",
              "</table>\n",
              "</div>"
            ],
            "text/plain": [
              "                    Claim ID  Time to Close  Claim Amount  Amount Paid  \\\n",
              "0  0000000-00.2010.0.00.0094           2082   R$50,000.00     34297.47   \n",
              "1  0000000-00.2011.0.00.0086           3591  R$180,000.00     56383.54   \n",
              "2  0000000-00.2012.0.00.0092           2997   R$70,000.00     12366.76   \n",
              "3  0000000-00.2013.0.00.0096           1143   R$95,104.00     29217.16   \n",
              "4  0000000-00.2014.0.00.0097            117   R$29,000.00     12610.50   \n",
              "\n",
              "    Location  Individuals on Claim  Linked Cases       Cause  \n",
              "0     RECIFE                     2         False         NaN  \n",
              "1   SAO LUIS                     7         False         NaN  \n",
              "2   SAO LUIS                     3         False  vegetables  \n",
              "3  FORTALEZA                     4         False         NaN  \n",
              "4  FORTALEZA                     1         False        meat  "
            ]
          },
          "execution_count": 17,
          "metadata": {},
          "output_type": "execute_result"
        }
      ],
      "source": [
        "df.head()"
      ]
    },
    {
      "cell_type": "code",
      "execution_count": 53,
      "metadata": {},
      "outputs": [
        {
          "data": {
            "text/plain": [
              "False    89\n",
              "True      9\n",
              "Name: Linked Cases, dtype: int64"
            ]
          },
          "execution_count": 53,
          "metadata": {},
          "output_type": "execute_result"
        }
      ],
      "source": [
        "df['Linked Cases'].value_counts()"
      ]
    },
    {
      "cell_type": "code",
      "execution_count": 55,
      "metadata": {},
      "outputs": [
        {
          "data": {
            "text/plain": [
              "-57"
            ]
          },
          "execution_count": 55,
          "metadata": {},
          "output_type": "execute_result"
        }
      ],
      "source": [
        "df['Time to Close'].min()"
      ]
    },
    {
      "cell_type": "code",
      "execution_count": 18,
      "metadata": {
        "id": "fcFLnCNzvKod"
      },
      "outputs": [],
      "source": [
        "Cause_meat = df[df['Cause'] == 'meat']"
      ]
    },
    {
      "cell_type": "code",
      "execution_count": 19,
      "metadata": {
        "id": "ewsKDsjFvTgA"
      },
      "outputs": [],
      "source": [
        "Cause_vegetables = df[df['Cause'] == 'vegetables']"
      ]
    },
    {
      "cell_type": "code",
      "execution_count": 20,
      "metadata": {
        "id": "02RROMA5BYom"
      },
      "outputs": [],
      "source": [
        "df1 = df.copy()"
      ]
    },
    {
      "cell_type": "markdown",
      "metadata": {
        "id": "6UhaHsI6zkVt"
      },
      "source": [
        "# Covert Claim amount R$50,000 to 50000"
      ]
    },
    {
      "cell_type": "code",
      "execution_count": 21,
      "metadata": {
        "id": "dCouldlVA9mp"
      },
      "outputs": [],
      "source": [
        "df1['Claim Amount'] = df['Claim Amount'].apply(lambda x: x.replace('R$','')).apply(lambda x: x.replace(',','')).astype(float)"
      ]
    },
    {
      "cell_type": "code",
      "execution_count": 22,
      "metadata": {
        "id": "02rZ-TEnzarJ"
      },
      "outputs": [],
      "source": [
        "df1['Claim Amount'] = df1['Claim Amount'].astype(int)"
      ]
    },
    {
      "cell_type": "code",
      "execution_count": 23,
      "metadata": {
        "colab": {
          "base_uri": "https://localhost:8080/",
          "height": 372
        },
        "id": "COuDuQ1TD53z",
        "outputId": "ac0d625e-f224-494f-ff95-447425417584"
      },
      "outputs": [
        {
          "data": {
            "text/html": [
              "<div>\n",
              "<style scoped>\n",
              "    .dataframe tbody tr th:only-of-type {\n",
              "        vertical-align: middle;\n",
              "    }\n",
              "\n",
              "    .dataframe tbody tr th {\n",
              "        vertical-align: top;\n",
              "    }\n",
              "\n",
              "    .dataframe thead th {\n",
              "        text-align: right;\n",
              "    }\n",
              "</style>\n",
              "<table border=\"1\" class=\"dataframe\">\n",
              "  <thead>\n",
              "    <tr style=\"text-align: right;\">\n",
              "      <th></th>\n",
              "      <th>Claim ID</th>\n",
              "      <th>Time to Close</th>\n",
              "      <th>Claim Amount</th>\n",
              "      <th>Amount Paid</th>\n",
              "      <th>Location</th>\n",
              "      <th>Individuals on Claim</th>\n",
              "      <th>Linked Cases</th>\n",
              "      <th>Cause</th>\n",
              "    </tr>\n",
              "  </thead>\n",
              "  <tbody>\n",
              "    <tr>\n",
              "      <th>0</th>\n",
              "      <td>0000000-00.2010.0.00.0094</td>\n",
              "      <td>2082</td>\n",
              "      <td>50000</td>\n",
              "      <td>34297.47</td>\n",
              "      <td>RECIFE</td>\n",
              "      <td>2</td>\n",
              "      <td>False</td>\n",
              "      <td>NaN</td>\n",
              "    </tr>\n",
              "    <tr>\n",
              "      <th>1</th>\n",
              "      <td>0000000-00.2011.0.00.0086</td>\n",
              "      <td>3591</td>\n",
              "      <td>180000</td>\n",
              "      <td>56383.54</td>\n",
              "      <td>SAO LUIS</td>\n",
              "      <td>7</td>\n",
              "      <td>False</td>\n",
              "      <td>NaN</td>\n",
              "    </tr>\n",
              "    <tr>\n",
              "      <th>2</th>\n",
              "      <td>0000000-00.2012.0.00.0092</td>\n",
              "      <td>2997</td>\n",
              "      <td>70000</td>\n",
              "      <td>12366.76</td>\n",
              "      <td>SAO LUIS</td>\n",
              "      <td>3</td>\n",
              "      <td>False</td>\n",
              "      <td>vegetables</td>\n",
              "    </tr>\n",
              "    <tr>\n",
              "      <th>3</th>\n",
              "      <td>0000000-00.2013.0.00.0096</td>\n",
              "      <td>1143</td>\n",
              "      <td>95104</td>\n",
              "      <td>29217.16</td>\n",
              "      <td>FORTALEZA</td>\n",
              "      <td>4</td>\n",
              "      <td>False</td>\n",
              "      <td>NaN</td>\n",
              "    </tr>\n",
              "    <tr>\n",
              "      <th>4</th>\n",
              "      <td>0000000-00.2014.0.00.0097</td>\n",
              "      <td>117</td>\n",
              "      <td>29000</td>\n",
              "      <td>12610.50</td>\n",
              "      <td>FORTALEZA</td>\n",
              "      <td>1</td>\n",
              "      <td>False</td>\n",
              "      <td>meat</td>\n",
              "    </tr>\n",
              "  </tbody>\n",
              "</table>\n",
              "</div>"
            ],
            "text/plain": [
              "                    Claim ID  Time to Close  Claim Amount  Amount Paid  \\\n",
              "0  0000000-00.2010.0.00.0094           2082         50000     34297.47   \n",
              "1  0000000-00.2011.0.00.0086           3591        180000     56383.54   \n",
              "2  0000000-00.2012.0.00.0092           2997         70000     12366.76   \n",
              "3  0000000-00.2013.0.00.0096           1143         95104     29217.16   \n",
              "4  0000000-00.2014.0.00.0097            117         29000     12610.50   \n",
              "\n",
              "    Location  Individuals on Claim  Linked Cases       Cause  \n",
              "0     RECIFE                     2         False         NaN  \n",
              "1   SAO LUIS                     7         False         NaN  \n",
              "2   SAO LUIS                     3         False  vegetables  \n",
              "3  FORTALEZA                     4         False         NaN  \n",
              "4  FORTALEZA                     1         False        meat  "
            ]
          },
          "execution_count": 23,
          "metadata": {},
          "output_type": "execute_result"
        }
      ],
      "source": [
        "df1.head()"
      ]
    },
    {
      "cell_type": "markdown",
      "metadata": {
        "id": "elqatjQ_ztTG"
      },
      "source": [
        "# ['Cause'] Replace Nan to 'unknow"
      ]
    },
    {
      "cell_type": "code",
      "execution_count": 24,
      "metadata": {
        "id": "MKkk_EAc0HZ5"
      },
      "outputs": [],
      "source": [
        "df1['Cause'] = df['Cause'].fillna('unknown')"
      ]
    },
    {
      "cell_type": "code",
      "execution_count": 56,
      "metadata": {
        "colab": {
          "base_uri": "https://localhost:8080/"
        },
        "id": "c4T8E5Bz0Wue",
        "outputId": "21559679-f9b6-427d-df64-6476e5ec34ef"
      },
      "outputs": [
        {
          "data": {
            "text/plain": [
              "1     28\n",
              "2     16\n",
              "3     11\n",
              "4      9\n",
              "0      7\n",
              "6      5\n",
              "7      4\n",
              "8      4\n",
              "10     2\n",
              "17     2\n",
              "5      2\n",
              "30     1\n",
              "18     1\n",
              "41     1\n",
              "15     1\n",
              "33     1\n",
              "9      1\n",
              "32     1\n",
              "20     1\n",
              "Name: Individuals on Claim, dtype: int64"
            ]
          },
          "execution_count": 56,
          "metadata": {},
          "output_type": "execute_result"
        }
      ],
      "source": [
        "df1['Individuals on Claim'].value_counts()"
      ]
    },
    {
      "cell_type": "markdown",
      "metadata": {
        "id": "afE3PrIZKvT8"
      },
      "source": [
        "# change data type"
      ]
    },
    {
      "cell_type": "code",
      "execution_count": 26,
      "metadata": {
        "colab": {
          "base_uri": "https://localhost:8080/"
        },
        "id": "PSog7G0AKykA",
        "outputId": "37e8dea8-1afa-4096-af65-8bf93d285220"
      },
      "outputs": [
        {
          "name": "stdout",
          "output_type": "stream",
          "text": [
            "<class 'pandas.core.frame.DataFrame'>\n",
            "RangeIndex: 98 entries, 0 to 97\n",
            "Data columns (total 8 columns):\n",
            " #   Column                Non-Null Count  Dtype  \n",
            "---  ------                --------------  -----  \n",
            " 0   Claim ID              98 non-null     object \n",
            " 1   Time to Close         98 non-null     int64  \n",
            " 2   Claim Amount          98 non-null     int32  \n",
            " 3   Amount Paid           98 non-null     float64\n",
            " 4   Location              98 non-null     object \n",
            " 5   Individuals on Claim  98 non-null     int64  \n",
            " 6   Linked Cases          98 non-null     bool   \n",
            " 7   Cause                 98 non-null     object \n",
            "dtypes: bool(1), float64(1), int32(1), int64(2), object(3)\n",
            "memory usage: 5.2+ KB\n"
          ]
        }
      ],
      "source": [
        "df1.info()"
      ]
    },
    {
      "cell_type": "markdown",
      "metadata": {
        "id": "MB1YavfXwuj4"
      },
      "source": [
        "# Q1 How does the number of claims differ across locations?\n"
      ]
    },
    {
      "cell_type": "code",
      "execution_count": 27,
      "metadata": {
        "id": "xB4YMSZ3KKNZ"
      },
      "outputs": [],
      "source": [
        "location = df1.groupby(['Location']).size()"
      ]
    },
    {
      "cell_type": "code",
      "execution_count": 28,
      "metadata": {
        "colab": {
          "base_uri": "https://localhost:8080/"
        },
        "id": "6UHFh4cRKuBB",
        "outputId": "58331a31-8c39-4692-ab32-83f41faae478"
      },
      "outputs": [
        {
          "data": {
            "text/plain": [
              "Location\n",
              "FORTALEZA    22\n",
              "NATAL        21\n",
              "RECIFE       25\n",
              "SAO LUIS     30\n",
              "dtype: int64"
            ]
          },
          "execution_count": 28,
          "metadata": {},
          "output_type": "execute_result"
        }
      ],
      "source": [
        "location"
      ]
    },
    {
      "cell_type": "code",
      "execution_count": 29,
      "metadata": {
        "id": "JIZBxKjkPTq5"
      },
      "outputs": [],
      "source": [
        "#list(location.keys()) failed location.values()"
      ]
    },
    {
      "cell_type": "code",
      "execution_count": 50,
      "metadata": {
        "colab": {
          "base_uri": "https://localhost:8080/",
          "height": 629
        },
        "id": "fZsYquzsKSTF",
        "outputId": "d13ba0a6-addd-417f-fb61-7ad949ea95e6"
      },
      "outputs": [
        {
          "data": {
            "image/png": "[encoded data removed]",
            "text/plain": [
              "<Figure size 1000x900 with 1 Axes>"
            ]
          },
          "metadata": {},
          "output_type": "display_data"
        }
      ],
      "source": [
        "location.plot(kind='bar', ylabel='Count', xlabel='Lcoations',figsize=(10,9))\n",
        "plt.title('SAO LUIS is the highest claim location',fontsize=16)\n",
        "plt.suptitle('Count different claims location',fontsize=24, y=1)\n",
        "plt.rc('axes', axisbelow=True)\n",
        "plt.grid()\n",
        "plt.xticks(rotation =0)\n",
        "plt.savefig(\"Count_different_claims_location.png\")"
      ]
    },
    {
      "cell_type": "markdown",
      "metadata": {},
      "source": [
        "There are four claim loccation included in this data. The highest claim location is SAO LUIS, with RECIFE being second. Third is FORTALEZA and the fourth is NATAL."
      ]
    },
    {
      "cell_type": "markdown",
      "metadata": {
        "id": "vxKq589exEOz"
      },
      "source": [
        "#Q2 ● What is the distribution of time to close claims?\n"
      ]
    },
    {
      "cell_type": "code",
      "execution_count": 31,
      "metadata": {
        "colab": {
          "base_uri": "https://localhost:8080/",
          "height": 372
        },
        "id": "vHFdK-2yZ0DD",
        "outputId": "18861688-a068-476c-f39b-7f655d6159fe"
      },
      "outputs": [
        {
          "data": {
            "text/html": [
              "<div>\n",
              "<style scoped>\n",
              "    .dataframe tbody tr th:only-of-type {\n",
              "        vertical-align: middle;\n",
              "    }\n",
              "\n",
              "    .dataframe tbody tr th {\n",
              "        vertical-align: top;\n",
              "    }\n",
              "\n",
              "    .dataframe thead th {\n",
              "        text-align: right;\n",
              "    }\n",
              "</style>\n",
              "<table border=\"1\" class=\"dataframe\">\n",
              "  <thead>\n",
              "    <tr style=\"text-align: right;\">\n",
              "      <th></th>\n",
              "      <th>Claim ID</th>\n",
              "      <th>Time to Close</th>\n",
              "      <th>Claim Amount</th>\n",
              "      <th>Amount Paid</th>\n",
              "      <th>Location</th>\n",
              "      <th>Individuals on Claim</th>\n",
              "      <th>Linked Cases</th>\n",
              "      <th>Cause</th>\n",
              "    </tr>\n",
              "  </thead>\n",
              "  <tbody>\n",
              "    <tr>\n",
              "      <th>0</th>\n",
              "      <td>0000000-00.2010.0.00.0094</td>\n",
              "      <td>2082</td>\n",
              "      <td>50000</td>\n",
              "      <td>34297.47</td>\n",
              "      <td>RECIFE</td>\n",
              "      <td>2</td>\n",
              "      <td>False</td>\n",
              "      <td>unknown</td>\n",
              "    </tr>\n",
              "    <tr>\n",
              "      <th>1</th>\n",
              "      <td>0000000-00.2011.0.00.0086</td>\n",
              "      <td>3591</td>\n",
              "      <td>180000</td>\n",
              "      <td>56383.54</td>\n",
              "      <td>SAO LUIS</td>\n",
              "      <td>7</td>\n",
              "      <td>False</td>\n",
              "      <td>unknown</td>\n",
              "    </tr>\n",
              "    <tr>\n",
              "      <th>2</th>\n",
              "      <td>0000000-00.2012.0.00.0092</td>\n",
              "      <td>2997</td>\n",
              "      <td>70000</td>\n",
              "      <td>12366.76</td>\n",
              "      <td>SAO LUIS</td>\n",
              "      <td>3</td>\n",
              "      <td>False</td>\n",
              "      <td>vegetables</td>\n",
              "    </tr>\n",
              "    <tr>\n",
              "      <th>3</th>\n",
              "      <td>0000000-00.2013.0.00.0096</td>\n",
              "      <td>1143</td>\n",
              "      <td>95104</td>\n",
              "      <td>29217.16</td>\n",
              "      <td>FORTALEZA</td>\n",
              "      <td>4</td>\n",
              "      <td>False</td>\n",
              "      <td>unknown</td>\n",
              "    </tr>\n",
              "    <tr>\n",
              "      <th>4</th>\n",
              "      <td>0000000-00.2014.0.00.0097</td>\n",
              "      <td>117</td>\n",
              "      <td>29000</td>\n",
              "      <td>12610.50</td>\n",
              "      <td>FORTALEZA</td>\n",
              "      <td>1</td>\n",
              "      <td>False</td>\n",
              "      <td>meat</td>\n",
              "    </tr>\n",
              "  </tbody>\n",
              "</table>\n",
              "</div>"
            ],
            "text/plain": [
              "                    Claim ID  Time to Close  Claim Amount  Amount Paid  \\\n",
              "0  0000000-00.2010.0.00.0094           2082         50000     34297.47   \n",
              "1  0000000-00.2011.0.00.0086           3591        180000     56383.54   \n",
              "2  0000000-00.2012.0.00.0092           2997         70000     12366.76   \n",
              "3  0000000-00.2013.0.00.0096           1143         95104     29217.16   \n",
              "4  0000000-00.2014.0.00.0097            117         29000     12610.50   \n",
              "\n",
              "    Location  Individuals on Claim  Linked Cases       Cause  \n",
              "0     RECIFE                     2         False     unknown  \n",
              "1   SAO LUIS                     7         False     unknown  \n",
              "2   SAO LUIS                     3         False  vegetables  \n",
              "3  FORTALEZA                     4         False     unknown  \n",
              "4  FORTALEZA                     1         False        meat  "
            ]
          },
          "execution_count": 31,
          "metadata": {},
          "output_type": "execute_result"
        }
      ],
      "source": [
        "df1.head()"
      ]
    },
    {
      "cell_type": "code",
      "execution_count": 32,
      "metadata": {
        "colab": {
          "base_uri": "https://localhost:8080/"
        },
        "id": "UCuU0uX8xD-j",
        "outputId": "aeffef40-9010-4b87-cd53-0e82ee900240"
      },
      "outputs": [
        {
          "data": {
            "text/plain": [
              "0     2082\n",
              "1     3591\n",
              "2     2997\n",
              "3     1143\n",
              "4      117\n",
              "      ... \n",
              "93     208\n",
              "94      86\n",
              "95     201\n",
              "96     200\n",
              "97     195\n",
              "Name: Time to Close, Length: 98, dtype: int64"
            ]
          },
          "execution_count": 32,
          "metadata": {},
          "output_type": "execute_result"
        }
      ],
      "source": [
        "df1['Time to Close']"
      ]
    },
    {
      "cell_type": "code",
      "execution_count": 33,
      "metadata": {
        "colab": {
          "base_uri": "https://localhost:8080/"
        },
        "id": "R5lDwg1VZmaJ",
        "outputId": "caea3fe4-93f5-4ea5-8643-9d1589c55cea"
      },
      "outputs": [
        {
          "data": {
            "text/plain": [
              "count      98.000000\n",
              "mean      832.346939\n",
              "std       686.851131\n",
              "min       -57.000000\n",
              "25%       340.750000\n",
              "50%       638.500000\n",
              "75%      1138.750000\n",
              "max      3591.000000\n",
              "Name: Time to Close, dtype: float64"
            ]
          },
          "execution_count": 33,
          "metadata": {},
          "output_type": "execute_result"
        }
      ],
      "source": [
        "df1['Time to Close'].describe()"
      ]
    },
    {
      "cell_type": "code",
      "execution_count": 34,
      "metadata": {
        "colab": {
          "base_uri": "https://localhost:8080/",
          "height": 335
        },
        "id": "J6GUhVxXcDFH",
        "outputId": "9895bb74-8fd4-46e1-ff1f-390dd2409c21"
      },
      "outputs": [
        {
          "data": {
            "text/plain": [
              "(array([24., 29., 15., 13.,  8.,  4.,  3.,  0.,  1.,  1.]),\n",
              " array([ -57. ,  307.8,  672.6, 1037.4, 1402.2, 1767. , 2131.8, 2496.6,\n",
              "        2861.4, 3226.2, 3591. ]),\n",
              " <BarContainer object of 10 artists>)"
            ]
          },
          "execution_count": 34,
          "metadata": {},
          "output_type": "execute_result"
        },
        {
          "data": {
            "image/png": "[encoded data removed]",
            "text/plain": [
              "<Figure size 640x480 with 1 Axes>"
            ]
          },
          "metadata": {},
          "output_type": "display_data"
        }
      ],
      "source": [
        "plt.hist(df1['Time to Close'])"
      ]
    },
    {
      "cell_type": "code",
      "execution_count": 48,
      "metadata": {
        "colab": {
          "base_uri": "https://localhost:8080/",
          "height": 312
        },
        "id": "-CSfBCDzGPOO",
        "outputId": "60f77ca9-4d7d-43c7-8739-e53f66730500"
      },
      "outputs": [
        {
          "data": {
            "image/png": "[encoded data removed]",
            "text/plain": [
              "<Figure size 640x480 with 1 Axes>"
            ]
          },
          "metadata": {},
          "output_type": "display_data"
        }
      ],
      "source": [
        "plt.hist(df1['Time to Close'], bins=50,align='right', color='purple', edgecolor='black')\n",
        "plt.ylabel(\"Count\")\n",
        "plt.xlabel(\"Time to Close (Days)\")\n",
        "plt.title('Distribution of time to close claims')\n",
        "plt.savefig(\"Distribution_of_time_to_close_claims.png\")"
      ]
    },
    {
      "cell_type": "markdown",
      "metadata": {
        "id": "q-Oo59suxHA7"
      },
      "source": [
        "# Q3  How does the average time to close claims differ by location?\n"
      ]
    },
    {
      "cell_type": "code",
      "execution_count": 36,
      "metadata": {
        "colab": {
          "base_uri": "https://localhost:8080/",
          "height": 372
        },
        "id": "WJmYks5eQTYc",
        "outputId": "ab75bf07-ecda-408a-ac3e-d6f80871f214"
      },
      "outputs": [
        {
          "data": {
            "text/html": [
              "<div>\n",
              "<style scoped>\n",
              "    .dataframe tbody tr th:only-of-type {\n",
              "        vertical-align: middle;\n",
              "    }\n",
              "\n",
              "    .dataframe tbody tr th {\n",
              "        vertical-align: top;\n",
              "    }\n",
              "\n",
              "    .dataframe thead th {\n",
              "        text-align: right;\n",
              "    }\n",
              "</style>\n",
              "<table border=\"1\" class=\"dataframe\">\n",
              "  <thead>\n",
              "    <tr style=\"text-align: right;\">\n",
              "      <th></th>\n",
              "      <th>Claim ID</th>\n",
              "      <th>Time to Close</th>\n",
              "      <th>Claim Amount</th>\n",
              "      <th>Amount Paid</th>\n",
              "      <th>Location</th>\n",
              "      <th>Individuals on Claim</th>\n",
              "      <th>Linked Cases</th>\n",
              "      <th>Cause</th>\n",
              "    </tr>\n",
              "  </thead>\n",
              "  <tbody>\n",
              "    <tr>\n",
              "      <th>0</th>\n",
              "      <td>0000000-00.2010.0.00.0094</td>\n",
              "      <td>2082</td>\n",
              "      <td>50000</td>\n",
              "      <td>34297.47</td>\n",
              "      <td>RECIFE</td>\n",
              "      <td>2</td>\n",
              "      <td>False</td>\n",
              "      <td>unknown</td>\n",
              "    </tr>\n",
              "    <tr>\n",
              "      <th>1</th>\n",
              "      <td>0000000-00.2011.0.00.0086</td>\n",
              "      <td>3591</td>\n",
              "      <td>180000</td>\n",
              "      <td>56383.54</td>\n",
              "      <td>SAO LUIS</td>\n",
              "      <td>7</td>\n",
              "      <td>False</td>\n",
              "      <td>unknown</td>\n",
              "    </tr>\n",
              "    <tr>\n",
              "      <th>2</th>\n",
              "      <td>0000000-00.2012.0.00.0092</td>\n",
              "      <td>2997</td>\n",
              "      <td>70000</td>\n",
              "      <td>12366.76</td>\n",
              "      <td>SAO LUIS</td>\n",
              "      <td>3</td>\n",
              "      <td>False</td>\n",
              "      <td>vegetables</td>\n",
              "    </tr>\n",
              "    <tr>\n",
              "      <th>3</th>\n",
              "      <td>0000000-00.2013.0.00.0096</td>\n",
              "      <td>1143</td>\n",
              "      <td>95104</td>\n",
              "      <td>29217.16</td>\n",
              "      <td>FORTALEZA</td>\n",
              "      <td>4</td>\n",
              "      <td>False</td>\n",
              "      <td>unknown</td>\n",
              "    </tr>\n",
              "    <tr>\n",
              "      <th>4</th>\n",
              "      <td>0000000-00.2014.0.00.0097</td>\n",
              "      <td>117</td>\n",
              "      <td>29000</td>\n",
              "      <td>12610.50</td>\n",
              "      <td>FORTALEZA</td>\n",
              "      <td>1</td>\n",
              "      <td>False</td>\n",
              "      <td>meat</td>\n",
              "    </tr>\n",
              "  </tbody>\n",
              "</table>\n",
              "</div>"
            ],
            "text/plain": [
              "                    Claim ID  Time to Close  Claim Amount  Amount Paid  \\\n",
              "0  0000000-00.2010.0.00.0094           2082         50000     34297.47   \n",
              "1  0000000-00.2011.0.00.0086           3591        180000     56383.54   \n",
              "2  0000000-00.2012.0.00.0092           2997         70000     12366.76   \n",
              "3  0000000-00.2013.0.00.0096           1143         95104     29217.16   \n",
              "4  0000000-00.2014.0.00.0097            117         29000     12610.50   \n",
              "\n",
              "    Location  Individuals on Claim  Linked Cases       Cause  \n",
              "0     RECIFE                     2         False     unknown  \n",
              "1   SAO LUIS                     7         False     unknown  \n",
              "2   SAO LUIS                     3         False  vegetables  \n",
              "3  FORTALEZA                     4         False     unknown  \n",
              "4  FORTALEZA                     1         False        meat  "
            ]
          },
          "execution_count": 36,
          "metadata": {},
          "output_type": "execute_result"
        }
      ],
      "source": [
        "df1.head()"
      ]
    },
    {
      "cell_type": "code",
      "execution_count": 37,
      "metadata": {
        "id": "y6Ks3iJ9buoL"
      },
      "outputs": [],
      "source": [
        "import seaborn as sns\n",
        "import matplotlib.pyplot as plt"
      ]
    },
    {
      "cell_type": "code",
      "execution_count": 38,
      "metadata": {
        "colab": {
          "base_uri": "https://localhost:8080/",
          "height": 296
        },
        "id": "Q42rV0AAbxPM",
        "outputId": "caf632e3-feb3-4139-b3ab-c0ed954f4aef"
      },
      "outputs": [
        {
          "data": {
            "image/png": "[encoded data removed]",
            "text/plain": [
              "<Figure size 640x480 with 1 Axes>"
            ]
          },
          "metadata": {},
          "output_type": "display_data"
        },
        {
          "data": {
            "text/plain": [
              "<Figure size 5000x2000 with 0 Axes>"
            ]
          },
          "metadata": {},
          "output_type": "display_data"
        }
      ],
      "source": [
        "sns.boxplot(x=df1[\"Location\"], y=df1[\"Time to Close\"])\n",
        "plt.figure(figsize=(50,20))\n",
        "plt.show()"
      ]
    },
    {
      "cell_type": "code",
      "execution_count": 51,
      "metadata": {
        "colab": {
          "base_uri": "https://localhost:8080/",
          "height": 526
        },
        "id": "WcaPPARjdFgx",
        "outputId": "4d3dd0e6-f1e2-4ae6-db15-a906c5eb5505"
      },
      "outputs": [
        {
          "data": {
            "image/png": "[encoded data removed]",
            "text/plain": [
              "<Figure size 1000x800 with 1 Axes>"
            ]
          },
          "metadata": {},
          "output_type": "display_data"
        }
      ],
      "source": [
        "plt.figure(figsize=(10,8))\n",
        "sns.boxplot(data=df1,x=\"Location\", y=\"Time to Close\", showmeans=True,\n",
        "                        meanprops={\"marker\":\"o\",\n",
        "                       \"markerfacecolor\":\"white\", \n",
        "                       \"markeredgecolor\":\"black\",\n",
        "                      \"markersize\":\"10\"})\n",
        "plt.ylabel(\"Close claims time in day\", size=18)\n",
        "plt.xlabel(\"Location\", size=18)\n",
        "plt.title(\"Time to close claims by location\", size=20)\n",
        "plt.grid(zorder=2)\n",
        "plt.savefig(\"Time to close claims by location.png\")\n"
      ]
    },
    {
      "cell_type": "code",
      "execution_count": 40,
      "metadata": {
        "colab": {
          "base_uri": "https://localhost:8080/"
        },
        "id": "6j8yrgcSxKuq",
        "outputId": "f413e8dc-ddef-4cee-ec3c-e4a80507ea80"
      },
      "outputs": [
        {
          "data": {
            "text/plain": [
              "Location\n",
              "FORTALEZA    22\n",
              "NATAL        21\n",
              "RECIFE       25\n",
              "SAO LUIS     30\n",
              "dtype: int64"
            ]
          },
          "execution_count": 40,
          "metadata": {},
          "output_type": "execute_result"
        }
      ],
      "source": [
        "df1.groupby(\"Location\").size()"
      ]
    },
    {
      "cell_type": "code",
      "execution_count": 41,
      "metadata": {
        "id": "2R3W6H0Fx28a"
      },
      "outputs": [],
      "source": [
        "averagetime = df1.groupby(\"Location\")[\"Time to Close\"].mean()"
      ]
    },
    {
      "cell_type": "code",
      "execution_count": 42,
      "metadata": {
        "colab": {
          "base_uri": "https://localhost:8080/"
        },
        "id": "6IHKE6NzyX1d",
        "outputId": "7f7a7fcb-9dc7-43dc-ce3b-50322e22d252"
      },
      "outputs": [
        {
          "data": {
            "text/plain": [
              "Location\n",
              "FORTALEZA     775.500000\n",
              "NATAL         581.142857\n",
              "RECIFE        860.680000\n",
              "SAO LUIS     1026.266667\n",
              "Name: Time to Close, dtype: float64"
            ]
          },
          "execution_count": 42,
          "metadata": {},
          "output_type": "execute_result"
        }
      ],
      "source": [
        "averagetime"
      ]
    },
    {
      "cell_type": "code",
      "execution_count": 43,
      "metadata": {
        "colab": {
          "base_uri": "https://localhost:8080/",
          "height": 404
        },
        "id": "OXFpAHC6a_0R",
        "outputId": "71b9837b-6220-4e4a-9241-663c4d9b2070"
      },
      "outputs": [
        {
          "data": {
            "text/plain": [
              "{'whiskers': [<matplotlib.lines.Line2D at 0x18c663b8d90>,\n",
              "  <matplotlib.lines.Line2D at 0x18c663ca070>],\n",
              " 'caps': [<matplotlib.lines.Line2D at 0x18c663ca310>,\n",
              "  <matplotlib.lines.Line2D at 0x18c663ca5e0>],\n",
              " 'boxes': [<matplotlib.lines.Line2D at 0x18c663b8af0>],\n",
              " 'medians': [<matplotlib.lines.Line2D at 0x18c663ca880>],\n",
              " 'fliers': [<matplotlib.lines.Line2D at 0x18c663cab20>],\n",
              " 'means': []}"
            ]
          },
          "execution_count": 43,
          "metadata": {},
          "output_type": "execute_result"
        },
        {
          "data": {
            "image/png": "[encoded data removed]",
            "text/plain": [
              "<Figure size 640x480 with 1 Axes>"
            ]
          },
          "metadata": {},
          "output_type": "display_data"
        }
      ],
      "source": [
        "plt.boxplot(averagetime)"
      ]
    },
    {
      "cell_type": "code",
      "execution_count": 44,
      "metadata": {
        "colab": {
          "base_uri": "https://localhost:8080/"
        },
        "id": "opZSzZvziaUH",
        "outputId": "693f7716-3925-4fe4-e820-eef22c8475fb"
      },
      "outputs": [
        {
          "data": {
            "text/plain": [
              "Location   Cause     \n",
              "FORTALEZA  meat           237.333333\n",
              "           unknown        860.473684\n",
              "NATAL      meat           692.333333\n",
              "           unknown        562.611111\n",
              "RECIFE     meat          1164.000000\n",
              "           unknown        825.550000\n",
              "           vegetables     960.500000\n",
              "SAO LUIS   meat           764.600000\n",
              "           unknown       1053.047619\n",
              "           vegetables    1212.750000\n",
              "Name: Time to Close, dtype: float64"
            ]
          },
          "execution_count": 44,
          "metadata": {},
          "output_type": "execute_result"
        }
      ],
      "source": [
        "df1.groupby([\"Location\",\"Cause\"])[\"Time to Close\"].mean()"
      ]
    },
    {
      "cell_type": "code",
      "execution_count": 45,
      "metadata": {
        "colab": {
          "base_uri": "https://localhost:8080/"
        },
        "id": "oDCLpsp7Qibd",
        "outputId": "aa0d9115-9d90-49f3-c510-aac2e3b221ae"
      },
      "outputs": [
        {
          "data": {
            "text/plain": [
              "Location   Individuals on Claim\n",
              "FORTALEZA  0                        495.000000\n",
              "           1                        809.714286\n",
              "           2                        449.250000\n",
              "           3                       1102.333333\n",
              "           4                       1387.000000\n",
              "           6                        634.000000\n",
              "           9                        387.000000\n",
              "           10                       731.000000\n",
              "NATAL      0                        997.000000\n",
              "           1                        874.666667\n",
              "           2                        320.250000\n",
              "           3                        650.000000\n",
              "           4                        120.000000\n",
              "           8                       1065.000000\n",
              "           10                       415.000000\n",
              "           15                       642.000000\n",
              "           17                       149.000000\n",
              "           20                       200.000000\n",
              "           33                       634.000000\n",
              "           41                       153.000000\n",
              "RECIFE     0                        618.666667\n",
              "           1                       1177.750000\n",
              "           2                       1344.800000\n",
              "           3                        562.333333\n",
              "           4                        246.500000\n",
              "           6                        504.000000\n",
              "           7                        906.000000\n",
              "           8                        993.000000\n",
              "           30                      1164.000000\n",
              "SAO LUIS   0                        883.000000\n",
              "           1                        848.272727\n",
              "           2                       1306.333333\n",
              "           3                       1766.666667\n",
              "           4                        380.500000\n",
              "           5                       1181.000000\n",
              "           6                       1178.000000\n",
              "           7                       1297.000000\n",
              "           17                      1169.000000\n",
              "           18                      1051.000000\n",
              "           32                        60.000000\n",
              "Name: Time to Close, dtype: float64"
            ]
          },
          "execution_count": 45,
          "metadata": {},
          "output_type": "execute_result"
        }
      ],
      "source": [
        "df1.groupby([\"Location\",\"Individuals on Claim\"])[\"Time to Close\"].mean()"
      ]
    },
    {
      "cell_type": "code",
      "execution_count": null,
      "metadata": {
        "id": "0pHVgvUrHpvT"
      },
      "outputs": [],
      "source": []
    }
  ],
  "metadata": {
    "colab": {
      "provenance": []
    },
    "kernelspec": {
      "display_name": "Python 3",
      "language": "python",
      "name": "python3"
    },
    "language_info": {
      "codemirror_mode": {
        "name": "ipython",
        "version": 3
      },
      "file_extension": ".py",
      "mimetype": "text/x-python",
      "name": "python",
      "nbconvert_exporter": "python",
      "pygments_lexer": "ipython3",
      "version": "3.9.13 | packaged by conda-forge | (main, May 27 2022, 16:50:36) [MSC v.1929 64 bit (AMD64)]"
    },
    "vscode": {
      "interpreter": {
        "hash": "06e262f07c7034ea6e2055088e99907ecf0ad1b1c423f59895778434d2ea411e"
      }
    }
  },
  "nbformat": 4,
  "nbformat_minor": 0
}
